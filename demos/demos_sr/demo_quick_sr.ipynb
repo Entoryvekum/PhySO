{
 "cells": [
  {
   "cell_type": "markdown",
   "id": "5968aa00-8a07-4781-9e11-cc0f58c37a67",
   "metadata": {},
   "source": [
    "# $\\Phi$-SO demo (quick SR)"
   ]
  },
  {
   "cell_type": "code",
   "execution_count": 1,
   "id": "ebd1ce38-335c-4705-bae7-1819a1806d70",
   "metadata": {},
   "outputs": [],
   "source": [
    "# External packages\n",
    "import numpy as np\n",
    "import matplotlib.pyplot as plt\n",
    "# Internal code import\n",
    "import physo"
   ]
  },
  {
   "cell_type": "markdown",
   "id": "ca2c0b89-a4b5-4c58-b94d-30dae45e7f2b",
   "metadata": {},
   "source": [
    "### Dataset"
   ]
  },
  {
   "cell_type": "code",
   "execution_count": 2,
   "id": "ef3fe04a-7ded-45b4-b9bb-bda01f528261",
   "metadata": {
    "tags": []
   },
   "outputs": [],
   "source": [
    "# Dataset\n",
    "z = np.random.uniform(-10, 10, 50)\n",
    "v = np.random.uniform(-10, 10, 50)\n",
    "X = np.stack((z, v), axis=0)\n",
    "y = 1.234*9.807*z + 1.234*v**2"
   ]
  },
  {
   "cell_type": "markdown",
   "id": "c069cf45-b69e-4f00-a190-8adac899f135",
   "metadata": {},
   "source": [
    "Where $X=(z,v)$, $z$ being a length of dimension $L^{1}, T^{0}, M^{0}$, v a velocity of dimension $L^{1}, T^{-1}, M^{0}$, $y=E$ if an energy of dimension $L^{2}, T^{-2}, M^{1}$.\n",
    "\n",
    "It be noted that free constants search starts around 1. by default. Therefore when using default hyperparameters, normalizing the data around an order of magnitude of 1 is strongly recommended."
   ]
  },
  {
   "cell_type": "markdown",
   "id": "965cecdd-601a-4e54-a03f-d89f945cf976",
   "metadata": {},
   "source": [
    "Dataset plot"
   ]
  },
  {
   "cell_type": "code",
   "execution_count": 3,
   "id": "1969e736-4b9a-41ef-be4f-176802df5da6",
   "metadata": {
    "tags": []
   },
   "outputs": [
    {
     "data": {
      "image/png": "[encoded data removed]",
      "text/plain": [
       "<Figure size 1000x500 with 2 Axes>"
      ]
     },
     "metadata": {},
     "output_type": "display_data"
    }
   ],
   "source": [
    "n_dim = X.shape[0]\n",
    "fig, ax = plt.subplots(n_dim, 1, figsize=(10,5))\n",
    "for i in range (n_dim):\n",
    "    curr_ax = ax if n_dim==1 else ax[i]\n",
    "    curr_ax.plot(X[i], y, 'k.',)\n",
    "    curr_ax.set_xlabel(\"X[%i]\"%(i))\n",
    "    curr_ax.set_ylabel(\"y\")\n",
    "plt.show()"
   ]
  },
  {
   "cell_type": "markdown",
   "id": "df074fd9-af20-4800-a4f1-708883bbc392",
   "metadata": {
    "tags": []
   },
   "source": [
    "### Running SR task"
   ]
  },
  {
   "cell_type": "markdown",
   "id": "697af72d-e235-45ff-9763-cc21d8a73e31",
   "metadata": {},
   "source": [
    "#### Available configurations"
   ]
  },
  {
   "cell_type": "markdown",
   "id": "475d60a0-8439-4dbc-9925-750bac0a4a57",
   "metadata": {},
   "source": [
    "It should be noted that SR capabilities of `physo` are heavily dependent on hyperparameters, it is therefore recommended to tune hyperparameters to your own specific problem for doing science.\n",
    "Summary of available currently configurations:\n",
    "\n",
    "|  Config |                           Notes                           |\n",
    "|:-------:|:---------------------------------------------------------:|\n",
    "| config0 | Light config for demo purposes.                           |\n",
    "| config1 | Tuned on a few physical cases.                            |\n",
    "| config2 | [work in progress] Good starting point for doing science. |\n",
    "\n",
    "By default, `config0` is used, however it is recommended to use the latest configuration currently available (`config1`) as a starting point for doing science.\n"
   ]
  },
  {
   "cell_type": "markdown",
   "id": "ae91464a-2072-46d6-bcb0-98c7bedfaba5",
   "metadata": {},
   "source": [
    "#### Running physo"
   ]
  },
  {
   "cell_type": "markdown",
   "id": "c2d6e5c8-4660-4dbc-ac39-b4f6513f1a54",
   "metadata": {},
   "source": [
    "Given the units input variables $(x_0,..., x_n)$ (here $(z, v)$ ), the root variable $y$ (here $E$) as well as free and fixed constants, you can run an SR task to recover $f$ via:"
   ]
  },
  {
   "cell_type": "markdown",
   "id": "8fa6c2a3-4784-44bf-a498-8ddf49f652ab",
   "metadata": {},
   "source": [
    "(Allowing the use of a fixed constant $1$ of dimension $L^{0}, T^{0}, M^{0}$ (ie dimensionless) and free constants $m$ of dimension $L^{0}, T^{0}, M^{1}$ and $g$ of dimension $L^{1}, T^{-2}, M^{0}$.)\n",
    "\n",
    "It should be noted that here the units vector are of size 3 (eg: `[1, 0, 0]`) as in this example the variables have units dependent on length, time and mass only.\n",
    "However, units vectors can be of any size $\\leq 7$ as long as it is consistent across X, y and constants, allowing the user to express any units (dependent on length, time, mass, temperature, electric current, amount of light, or amount of matter). \n",
    "In addition, dimensional analysis can be performed regardless of the order in which units are given, allowing the user to use any convention ([length, mass, time] or [mass, time, length] etc.) as long as it is consistent across X,y and constants."
   ]
  },
  {
   "cell_type": "code",
   "execution_count": null,
   "id": "1eb11a27-b4ee-4c80-af95-b0b6b0e1d49f",
   "metadata": {
    "scrolled": true,
    "tags": []
   },
   "outputs": [
    {
     "name": "stdout",
     "output_type": "stream",
     "text": [
      "SR task started...\n",
      "=========== Epoch 00000 ===========\n",
      "-> Time 4.43 s\n",
      "\n",
      "Overall best  at R=0.615748\n",
      "-> Raw expression : \n",
      "       ⎛   cos(0⋅1.0)      ⎞\n",
      "g⋅-m⋅z⋅⎝- ℯ           - 1.0⎠\n",
      "\n",
      "Best of epoch at R=0.615748\n",
      "-> Raw expression : \n",
      "       ⎛   cos(0⋅1.0)      ⎞\n",
      "g⋅-m⋅z⋅⎝- ℯ           - 1.0⎠\n",
      "\n",
      "\n",
      "=========== Epoch 00001 ===========\n",
      "-> Time 5.17 s\n",
      "\n",
      "Overall best  at R=0.615748\n",
      "-> Raw expression : \n",
      "       ⎛   cos(0⋅1.0)      ⎞\n",
      "g⋅-m⋅z⋅⎝- ℯ           - 1.0⎠\n",
      "\n",
      "Best of epoch at R=0.565174\n",
      "-> Raw expression : \n",
      "                               2\n",
      "  ⎛     ⎛ m⋅z            ⎞    ⎞ \n",
      "  ⎜     ⎜ ─── - 1.0 + 1.0⎟    ⎟ \n",
      "  ⎜     ⎜ m⋅z            ⎟    ⎟ \n",
      "m⋅⎝v⋅cos⎝ℯ               ⎠ + v⎠ \n",
      "\n",
      "\n",
      "=========== Epoch 00002 ===========\n",
      "-> Time 4.09 s\n",
      "\n",
      "Overall best  at R=0.615748\n",
      "-> Raw expression : \n",
      "       ⎛   cos(0⋅1.0)      ⎞\n",
      "g⋅-m⋅z⋅⎝- ℯ           - 1.0⎠\n",
      "\n",
      "Best of epoch at R=0.615748\n",
      "-> Raw expression : \n",
      "                 1.0                 \n",
      "─────────────────────────────────────\n",
      "⎛                 1                 ⎞\n",
      "⎜───────────────────────────────────⎟\n",
      "⎜          ⎛           1           ⎞⎟\n",
      "⎜       sin⎜───────────────────────⎟⎟\n",
      "⎜          ⎜                      2⎟⎟\n",
      "⎜          ⎜⎛   2             0.5⎞ ⎟⎟\n",
      "⎜          ⎝⎝1.0  + 1.0 + -1.0   ⎠ ⎠⎟\n",
      "⎝g⋅m⋅z⋅ℯ                            ⎠\n",
      "\n",
      "\n",
      "=========== Epoch 00003 ===========\n",
      "-> Time 3.65 s\n",
      "\n",
      "Overall best  at R=0.615748\n",
      "-> Raw expression : \n",
      "       ⎛   cos(0⋅1.0)      ⎞\n",
      "g⋅-m⋅z⋅⎝- ℯ           - 1.0⎠\n",
      "\n",
      "Best of epoch at R=0.565174\n",
      "-> Raw expression : \n",
      "             1              \n",
      "────────────────────────────\n",
      "⎛                         2⎞\n",
      "⎜⎛ ⎛                   2⎞⎞ ⎟\n",
      "⎜⎜ ⎜⎛        1        ⎞ ⎟⎟ ⎟\n",
      "⎜⎜ ⎜⎜─────────────────⎟ ⎟⎟ ⎟\n",
      "⎜⎜ ⎜⎜                2⎟ ⎟⎟ ⎟\n",
      "⎜⎜ ⎝⎝(-cos(log(1.0))) ⎠ ⎠⎟ ⎟\n",
      "⎜⎝ℯ                      ⎠ ⎟\n",
      "⎜──────────────────────────⎟\n",
      "⎜                2         ⎟\n",
      "⎝         1.0⋅m⋅v          ⎠\n",
      "\n",
      "\n",
      "=========== Epoch 00004 ===========\n",
      "-> Time 3.93 s\n",
      "\n",
      "Overall best  at R=0.615748\n",
      "-> Raw expression : \n",
      "       ⎛   cos(0⋅1.0)      ⎞\n",
      "g⋅-m⋅z⋅⎝- ℯ           - 1.0⎠\n",
      "\n",
      "Best of epoch at R=0.615748\n",
      "-> Raw expression : \n",
      "    ⎛         1      ⎞\n",
      "g⋅z⋅⎜m + ────────────⎟\n",
      "    ⎜    ⎛    ⎛   2⎞⎞⎟\n",
      "    ⎜    ⎜    ⎜⎛v⎞ ⎟⎟⎟\n",
      "    ⎜    ⎜    ⎜⎜─⎟ ⎟⎟⎟\n",
      "    ⎜    ⎜    ⎜⎝v⎠ ⎟⎟⎟\n",
      "    ⎜    ⎜ cos⎜────⎟⎟⎟\n",
      "    ⎜    ⎜    ⎝1.0 ⎠⎟⎟\n",
      "    ⎜    ⎜ℯ         ⎟⎟\n",
      "    ⎜    ⎜──────────⎟⎟\n",
      "    ⎝    ⎝    m     ⎠⎠\n",
      "\n",
      "\n",
      "=========== Epoch 00005 ===========\n",
      "-> Time 3.87 s\n",
      "\n",
      "Overall best  at R=0.615748\n",
      "-> Raw expression : \n",
      "       ⎛   cos(0⋅1.0)      ⎞\n",
      "g⋅-m⋅z⋅⎝- ℯ           - 1.0⎠\n",
      "\n",
      "Best of epoch at R=0.615748\n",
      "-> Raw expression : \n",
      "   g⋅m⋅m⋅z   \n",
      "─────────────\n",
      "m⋅(1.0 + 1.0)\n",
      "\n",
      "\n",
      "=========== Epoch 00006 ===========\n",
      "-> Time 3.74 s\n",
      "\n",
      "Overall best  at R=0.615748\n",
      "-> Raw expression : \n",
      "       ⎛   cos(0⋅1.0)      ⎞\n",
      "g⋅-m⋅z⋅⎝- ℯ           - 1.0⎠\n",
      "\n",
      "Best of epoch at R=0.615748\n",
      "-> Raw expression : \n",
      "    0.5   \n",
      "-1.0   ⋅m \n",
      "──────────\n",
      "⎛   1   ⎞ \n",
      "⎜───────⎟ \n",
      "⎜⎛ -1  ⎞⎟ \n",
      "⎜⎜─────⎟⎟ \n",
      "⎜⎜⎛1.0⎞⎟⎟ \n",
      "⎜⎜⎜───⎟⎟⎟ \n",
      "⎝⎝⎝g⋅z⎠⎠⎠ \n",
      "\n",
      "\n",
      "=========== Epoch 00007 ===========\n",
      "-> Time 3.85 s\n",
      "\n",
      "Overall best  at R=0.622892\n",
      "-> Raw expression : \n",
      "                             0.5\n",
      "      ⎛           2         ⎞   \n",
      "      ⎜⎛ ⎛   0.5⎞⎞          ⎟   \n",
      "      ⎜⎜ ⎝1.0   ⎠⎟     ⎛g⋅z⎞⎟   \n",
      "g⋅m⋅z⋅⎜⎝ℯ        ⎠ ⋅log⎜───⎟⎟   \n",
      "      ⎜                ⎜  2⎟⎟   \n",
      "      ⎝                ⎝ v ⎠⎠   \n",
      "\n",
      "Best of epoch at R=0.622892\n",
      "-> Raw expression : \n",
      "                             0.5\n",
      "      ⎛           2         ⎞   \n",
      "      ⎜⎛ ⎛   0.5⎞⎞          ⎟   \n",
      "      ⎜⎜ ⎝1.0   ⎠⎟     ⎛g⋅z⎞⎟   \n",
      "g⋅m⋅z⋅⎜⎝ℯ        ⎠ ⋅log⎜───⎟⎟   \n",
      "      ⎜                ⎜  2⎟⎟   \n",
      "      ⎝                ⎝ v ⎠⎠   \n",
      "\n",
      "\n",
      "=========== Epoch 00008 ===========\n",
      "-> Time 4.18 s\n",
      "\n",
      "Overall best  at R=1.000000\n",
      "-> Raw expression : \n",
      "g⋅m⋅z⋅sin(1.0) - m⋅-v⋅v\n",
      "\n",
      "Best of epoch at R=1.000000\n",
      "-> Raw expression : \n",
      "g⋅m⋅z⋅sin(1.0) - m⋅-v⋅v\n",
      "\n",
      "\n",
      "=========== Epoch 00009 ===========\n",
      "-> Time 3.76 s\n",
      "\n",
      "Overall best  at R=1.000000\n",
      "-> Raw expression : \n",
      "g⋅m⋅z⋅sin(1.0) - m⋅-v⋅v\n",
      "\n",
      "Best of epoch at R=0.615748\n",
      "-> Raw expression : \n",
      "   ⎛   ⎛  1 ⎞⎞           \n",
      "   ⎜   ⎜ ───⎟⎟           \n",
      "   ⎜   ⎜ 1.0⎟⎟           \n",
      "log⎝cos⎝ℯ   ⎠⎠⋅m⋅1.0⋅-g⋅z\n",
      "\n",
      "\n",
      "=========== Epoch 00010 ===========\n",
      "-> Time 4.00 s\n",
      "\n",
      "Overall best  at R=1.000000\n",
      "-> Raw expression : \n",
      "g⋅m⋅z⋅sin(1.0) - m⋅-v⋅v\n",
      "\n",
      "Best of epoch at R=0.615748\n",
      "-> Raw expression : \n",
      "     1      \n",
      "────────────\n",
      "⎛ cos(1.0) ⎞\n",
      "⎜──────────⎟\n",
      "⎜   2      ⎟\n",
      "⎝1.0 ⋅g⋅m⋅z⎠\n",
      "\n",
      "\n"
     ]
    }
   ],
   "source": [
    "# Running SR task\n",
    "expression, logs = physo.SR(X, y,\n",
    "                            # Giving names of variables (for display purposes)\n",
    "                            X_names = [ \"z\"       , \"v\"        ],\n",
    "                            # Giving units of input variables\n",
    "                            X_units = [ [1, 0, 0] , [1, -1, 0] ],\n",
    "                            # Giving name of root variable (for display purposes)\n",
    "                            y_name  = \"E\",\n",
    "                            # Giving units of the root variable\n",
    "                            y_units = [2, -2, 1],\n",
    "                            # Fixed constants\n",
    "                            fixed_consts       = [ 1.      ],\n",
    "                            # Units of fixed constants\n",
    "                            fixed_consts_units = [ [0,0,0] ],\n",
    "                            # Free constants names (for display purposes)\n",
    "                            free_consts_names = [ \"m\"       , \"g\"        ],\n",
    "                            # Units offFree constants\n",
    "                            free_consts_units = [ [0, 0, 1] , [1, -2, 0] ],\n",
    "                            # Run config\n",
    "                            run_config = physo.config.config0.config0,\n",
    "\n",
    ")"
   ]
  },
  {
   "cell_type": "markdown",
   "id": "74eb7187-179c-4424-b8f0-d60ac8014648",
   "metadata": {},
   "source": [
    "### Inspecting the best expression found"
   ]
  },
  {
   "cell_type": "code",
   "execution_count": null,
   "id": "695cf419-d2bf-417a-90e8-37d53774a4c7",
   "metadata": {},
   "outputs": [],
   "source": [
    "# Inspecting the best expression found\n",
    "# In ascii\n",
    "print(\"\\nIn ascii:\")\n",
    "print(expression.get_infix_pretty(do_simplify=True))\n",
    "# In latex\n",
    "print(\"\\nIn latex\")\n",
    "print(expression.get_infix_latex(do_simplify=True))\n",
    "# Free constants values\n",
    "print(\"\\nFree constants values\")\n",
    "print(expression.free_const_values.cpu().detach().numpy())"
   ]
  },
  {
   "cell_type": "markdown",
   "id": "8c04aade-7a43-4f0d-9617-39f903668266",
   "metadata": {},
   "source": [
    "### Inspecting pareto front expressions"
   ]
  },
  {
   "cell_type": "code",
   "execution_count": null,
   "id": "d60ae712-a0da-426d-8137-11d3b631c21e",
   "metadata": {
    "tags": []
   },
   "outputs": [],
   "source": [
    "\n",
    "# Inspecting pareto front expressions\n",
    "pareto_front_complexities, pareto_front_expressions, pareto_front_r, pareto_front_rmse = logs.get_pareto_front()\n",
    "for i, prog in enumerate(pareto_front_expressions):\n",
    "    # Showing expression\n",
    "    print(prog.get_infix_pretty(do_simplify=True))\n",
    "    # Showing free constant\n",
    "    free_consts = prog.free_const_values.detach().cpu().numpy()\n",
    "    for j in range (len(free_consts)):\n",
    "        print(\"%s = %f\"%(prog.library.free_const_names[j], free_consts[j]))\n",
    "    # Showing RMSE\n",
    "    print(\"RMSE = {:e}\".format(pareto_front_rmse[i]))\n",
    "    print(\"-------------\\n\")"
   ]
  },
  {
   "cell_type": "code",
   "execution_count": null,
   "id": "d1c3342a-ef12-46a1-ab21-c1960268a748",
   "metadata": {},
   "outputs": [],
   "source": []
  }
 ],
 "metadata": {
  "kernelspec": {
   "display_name": "Python 3 (ipykernel)",
   "language": "python",
   "name": "python3"
  },
  "language_info": {
   "codemirror_mode": {
    "name": "ipython",
    "version": 3
   },
   "file_extension": ".py",
   "mimetype": "text/x-python",
   "name": "python",
   "nbconvert_exporter": "python",
   "pygments_lexer": "ipython3",
   "version": "3.8.16"
  }
 },
 "nbformat": 4,
 "nbformat_minor": 5
}
